{
 "cells": [
  {
   "cell_type": "code",
   "execution_count": 1,
   "metadata": {},
   "outputs": [],
   "source": [
    "##Visualizations for exploration & presentation"
   ]
  },
  {
   "cell_type": "code",
   "execution_count": 2,
   "metadata": {},
   "outputs": [
    {
     "ename": "ModuleNotFoundError",
     "evalue": "No module named 'geopandas'",
     "output_type": "error",
     "traceback": [
      "\u001b[0;31m---------------------------------------------------------------------------\u001b[0m",
      "\u001b[0;31mModuleNotFoundError\u001b[0m                       Traceback (most recent call last)",
      "\u001b[0;32m<ipython-input-2-948f06042b87>\u001b[0m in \u001b[0;36m<module>\u001b[0;34m\u001b[0m\n\u001b[1;32m      1\u001b[0m \u001b[0;32mimport\u001b[0m \u001b[0mpandas\u001b[0m \u001b[0;32mas\u001b[0m \u001b[0mpd\u001b[0m\u001b[0;34m\u001b[0m\u001b[0;34m\u001b[0m\u001b[0m\n\u001b[0;32m----> 2\u001b[0;31m \u001b[0;32mimport\u001b[0m \u001b[0mgeopandas\u001b[0m \u001b[0;32mas\u001b[0m \u001b[0mgpd\u001b[0m\u001b[0;34m\u001b[0m\u001b[0;34m\u001b[0m\u001b[0m\n\u001b[0m\u001b[1;32m      3\u001b[0m \u001b[0;32mimport\u001b[0m \u001b[0mmatplotlib\u001b[0m\u001b[0;34m.\u001b[0m\u001b[0mpyplot\u001b[0m \u001b[0;32mas\u001b[0m \u001b[0mplt\u001b[0m\u001b[0;34m\u001b[0m\u001b[0;34m\u001b[0m\u001b[0m\n\u001b[1;32m      4\u001b[0m \u001b[0;32mimport\u001b[0m \u001b[0mmapclassify\u001b[0m\u001b[0;34m\u001b[0m\u001b[0;34m\u001b[0m\u001b[0m\n\u001b[1;32m      5\u001b[0m \u001b[0;32mimport\u001b[0m \u001b[0mnumpy\u001b[0m \u001b[0;32mas\u001b[0m \u001b[0mnp\u001b[0m\u001b[0;34m\u001b[0m\u001b[0;34m\u001b[0m\u001b[0m\n",
      "\u001b[0;31mModuleNotFoundError\u001b[0m: No module named 'geopandas'"
     ]
    }
   ],
   "source": [
    "import pandas as pd\n",
    "import geopandas as gpd\n",
    "import matplotlib.pyplot as plt\n",
    "import mapclassify\n",
    "import numpy as np\n",
    "import seaborn as sns\n",
    "import wordcloud\n",
    "from wordcloud import WordCloud, STOPWORDS \n",
    "import copy"
   ]
  },
  {
   "cell_type": "code",
   "execution_count": null,
   "metadata": {},
   "outputs": [],
   "source": [
    "#allow in line graphics to view the plots\n",
    "%matplotlib inline"
   ]
  },
  {
   "cell_type": "code",
   "execution_count": null,
   "metadata": {},
   "outputs": [],
   "source": [
    "#resize the graphics - will likely update \n",
    "plt.rcParams['figure.figsize'] = (20, 10)"
   ]
  },
  {
   "cell_type": "code",
   "execution_count": null,
   "metadata": {},
   "outputs": [],
   "source": [
    "#geojson file from the city of chicago data portal to graph the neighborhood boundaries\n",
    "#might need to update the path\n",
    "chicago_neighborhoods = gpd.read_file('Chicago_Data/chicago_boundaries.geojson')"
   ]
  },
  {
   "cell_type": "code",
   "execution_count": null,
   "metadata": {},
   "outputs": [],
   "source": [
    "chicago_neighborhoods.head()"
   ]
  },
  {
   "cell_type": "code",
   "execution_count": null,
   "metadata": {},
   "outputs": [],
   "source": [
    "#plot just the neighborhood boundaries? \n",
    "chicago_neighborhoods.boundary.plot(color = \"black\");"
   ]
  },
  {
   "cell_type": "code",
   "execution_count": null,
   "metadata": {},
   "outputs": [],
   "source": [
    "#need to create a layer of the restaurants \n",
    "#load in the restaurants data frame which should include lat/long - thanks for the update Egemen\n",
    "restaurant = pd.read_csv(\"CSVs/all_businesses.csv\", index_col =0 )\n",
    "restaurant.head()"
   ]
  },
  {
   "cell_type": "code",
   "execution_count": null,
   "metadata": {},
   "outputs": [],
   "source": [
    "#turn this into a shapely object for the layer \n",
    "rest_shapely = gpd.GeoDataFrame(\n",
    "    restaurant, geometry=gpd.points_from_xy(restaurant.longitude, restaurant.latitude))"
   ]
  },
  {
   "cell_type": "code",
   "execution_count": null,
   "metadata": {},
   "outputs": [],
   "source": [
    "#All businesses weirdly includes locations outside of Chicago which were ruining maps, subset to only include Chicago \n",
    "rest_chicago = rest_shapely[rest_shapely.city == \"Chicago\"]"
   ]
  },
  {
   "cell_type": "code",
   "execution_count": null,
   "metadata": {},
   "outputs": [],
   "source": [
    "rest_closed = rest_chicago[rest_chicago.is_closed == True]\n",
    "rest_open = rest_chicago[rest_chicago.is_closed == False]"
   ]
  },
  {
   "cell_type": "code",
   "execution_count": null,
   "metadata": {},
   "outputs": [],
   "source": [
    "#Layer these  \n",
    "fig,ax = plt.subplots(figsize = (20,20))\n",
    "ax.set_facecolor('silver')\n",
    "chicago_neighborhoods.plot(ax=ax, color = \"white\", edgecolor = \"black\")\n",
    "rest_closed.plot(ax=ax, color = \"red\", alpha = 0.4, label = \"Closed\")\n",
    "rest_open.sample(n=1000).plot(ax=ax, color = \"blue\", alpha = 0.2, label = \"Open\")\n",
    "plt.legend(prop = {\"size\":15})\n",
    "#plt.savefig('restaurants.png')"
   ]
  },
  {
   "cell_type": "code",
   "execution_count": null,
   "metadata": {},
   "outputs": [],
   "source": [
    "#some work in Jade's Geoplot to plot COVID data as bubble plots - not very successful \n",
    "#won't include here "
   ]
  },
  {
   "cell_type": "code",
   "execution_count": null,
   "metadata": {},
   "outputs": [],
   "source": [
    "##Egemen's Code"
   ]
  },
  {
   "cell_type": "code",
   "execution_count": null,
   "metadata": {},
   "outputs": [],
   "source": [
    "#identify the number of closed businesses per zipcode\n",
    "all_businesses = pd.read_csv('CSVs/all_businesses.csv', index_col=0, dtype={'zip_code': str})\n",
    "closed = all_businesses[all_businesses.is_closed]\n",
    "zipcodes_closed = closed.loc[:, ['id', 'zip_code']].groupby('zip_code').count().sort_values('id', ascending=False)\n",
    "zipcodes_closed"
   ]
  },
  {
   "cell_type": "code",
   "execution_count": null,
   "metadata": {},
   "outputs": [],
   "source": [
    "#plot of the top 10 zipcodes with the most closed businesses (most affected)\n",
    "closed_by_zip_top10 = sns.barplot(x=zipcodes_closed.index[:10], y=zipcodes_closed.id[:10], palette=\"Blues_d\", order=zipcodes_closed.index[:10])\n",
    "fig = closed_by_zip_top10.get_figure()\n",
    "#fig.savefig('top10closedzips.png')"
   ]
  },
  {
   "cell_type": "code",
   "execution_count": null,
   "metadata": {},
   "outputs": [],
   "source": [
    "#plot of the bottom 10 zipcodes with the most closed businesses (least affected)\n",
    "closed_by_zip_bottom10 = sns.barplot(x=zipcodes_closed.index[-12:-2], y=zipcodes_closed.id[-12:-2], palette=\"Greens_d\", order=zipcodes_closed.index[-12:-2])\n",
    "fig = closed_by_zip_top10.get_figure()\n",
    "#fig.savefig('bottom10closedzips.png')"
   ]
  },
  {
   "cell_type": "code",
   "execution_count": null,
   "metadata": {},
   "outputs": [],
   "source": [
    "_open = all_businesses[all_businesses.is_closed==False]\n",
    "zipcodes_open = _open.loc[:, ['id', 'zip_code']].groupby('zip_code').count().sort_values('id', ascending=False)"
   ]
  },
  {
   "cell_type": "code",
   "execution_count": null,
   "metadata": {},
   "outputs": [],
   "source": [
    "#ratio of closed to open \n",
    "zip_ratio_closed = zipcodes_open.merge(zipcodes_closed, left_index=True, right_index=True, how='right')\n",
    "zip_ratio_closed['ratio_closed'] = zip_ratio_closed.id_y/zip_ratio_closed.id_x\n",
    "zip_ratio_closed = zip_ratio_closed.iloc[:, [-1]]\n",
    "zip_ratio_closed.sort_values('ratio_closed', ascending=False, inplace=True)"
   ]
  },
  {
   "cell_type": "code",
   "execution_count": null,
   "metadata": {},
   "outputs": [],
   "source": [
    "#Geojson with Chicago zipcodes \n",
    "chicago_zipcodes = gpd.read_file('Chicago_Data/zipcodes1.geojson')\n"
   ]
  },
  {
   "cell_type": "code",
   "execution_count": null,
   "metadata": {},
   "outputs": [],
   "source": [
    "chicago_zip_closed = chicago_zipcodes.merge(zip_ratio_closed, right_index=True, left_on='ZIP')"
   ]
  },
  {
   "cell_type": "code",
   "execution_count": null,
   "metadata": {},
   "outputs": [],
   "source": [
    "#some zipcodes plotted to the same shape\n",
    "zipcodes_closed.loc[['60601', '60602', '60603', '60604', '60605', '60611'], :].id.sum()"
   ]
  },
  {
   "cell_type": "code",
   "execution_count": null,
   "metadata": {},
   "outputs": [],
   "source": [
    "zipcodes_closed.loc[['60606', '60607', '60661'], :].id.sum()"
   ]
  },
  {
   "cell_type": "code",
   "execution_count": null,
   "metadata": {},
   "outputs": [],
   "source": [
    "zipcodes_closed.at['12311', ['id']] = zipcodes_closed.loc[['60601', '60602', '60603', '60604', '60605', '60611'], :].id.sum()\n",
    "\n",
    "zipcodes_closed.at['6761', ['id']] = zipcodes_closed.loc[['60606', '60607', '60661'], :].id.sum()\n",
    "\n",
    "zipcodes_closed.at['60610', ['id']] = zipcodes_closed.loc[['60610', '60654'], :].id.sum()\n",
    "\n",
    "zipcodes_closed.at['60622', ['id']] = zipcodes_closed.loc[['60622', '60622'], :].id.sum()\n",
    "\n",
    "zipcodes_open.at['12311', ['id']] = zipcodes_open.loc[['60601', '60602', '60603', '60604', '60605', '60611'], :].id.sum()\n",
    "\n",
    "zipcodes_open.at['6761', ['id']] = zipcodes_open.loc[['60606', '60607', '60661'], :].id.sum()\n",
    "\n",
    "zipcodes_open.at['60610', ['id']] = zipcodes_open.loc[['60610', '60654'], :].id.sum()\n",
    "\n",
    "zipcodes_open.at['60622', ['id']] = zipcodes_open.loc[['60622', '60622'], :].id.sum()\n",
    "\n",
    "zip_ratio_closed1 = zipcodes_open.merge(zipcodes_closed, left_index=True, right_index=True, how='right')\n",
    "zip_ratio_closed1['ratio_closed'] = zip_ratio_closed1.id_y/zip_ratio_closed1.id_x\n",
    "zip_ratio_closed1 = zip_ratio_closed1.iloc[:, [-1]]\n",
    "zip_ratio_closed1.sort_values('ratio_closed', ascending=False, inplace=True)\n",
    "\n",
    "chicago_zip_closed1 = chicago_zipcodes.merge(zip_ratio_closed1, right_index=True, left_on='ZIP')"
   ]
  },
  {
   "cell_type": "code",
   "execution_count": null,
   "metadata": {},
   "outputs": [],
   "source": [
    "#use this to label neighborhoods\n",
    "chicago_neighborhoods[\"center\"] = chicago_neighborhoods[\"geometry\"].centroid\n",
    "za_points = chicago_neighborhoods.copy()\n",
    "za_points.set_geometry(\"center\", inplace = True)"
   ]
  },
  {
   "cell_type": "code",
   "execution_count": null,
   "metadata": {},
   "outputs": [],
   "source": [
    "fig, ax = plt.subplots(figsize=(20,20))\n",
    "ax.set_facecolor('white')\n",
    "chicago_zip_closed1.plot(ax=ax, column=chicago_zip_closed1.ratio_closed, legend=True, cmap='Blues')\n",
    "texts = []\n",
    "\n",
    "for x, y, label in zip(za_points.geometry.x, za_points.geometry.y, za_points[\"community\"]):\n",
    "    texts.append(plt.text(x, y, label, fontsize = 8))\n",
    "plt.savefig('ratio1.png')"
   ]
  },
  {
   "cell_type": "code",
   "execution_count": null,
   "metadata": {},
   "outputs": [],
   "source": [
    "#look at COVID data\n",
    "all_businesses['death_rate'] = all_businesses.covid_deaths / all_businesses.zipcode_population\n",
    "all_businesses['case_rate'] = all_businesses.covid_cases / all_businesses.zipcode_population\n",
    "\n",
    "rates = all_businesses.loc[:, ['zip_code', 'death_rate', 'case_rate']].drop_duplicates('zip_code')\n",
    "\n",
    "chicago_rates_zip = chicago_zip_closed1.merge(rates, left_on='ZIP', right_on='zip_code', how='left')"
   ]
  },
  {
   "cell_type": "code",
   "execution_count": null,
   "metadata": {},
   "outputs": [],
   "source": [
    "#pick representative COVID rates for the overlapping zipcodes\n",
    "chicago_rates_zip.at[43, 'ZIP'] = 60601\n",
    "chicago_rates_zip.at[43, 'death_rate'] = rates[rates.zip_code=='60601'].iat[0, 1]\n",
    "chicago_rates_zip.at[43, 'case_rate'] = rates[rates.zip_code=='60601'].iat[0, 2]\n",
    "\n",
    "chicago_rates_zip.at[44, 'ZIP'] = 60606\n",
    "chicago_rates_zip.at[44, 'death_rate'] = rates[rates.zip_code=='60606'].iat[0, 1]\n",
    "chicago_rates_zip.at[44, 'case_rate'] = rates[rates.zip_code=='60606'].iat[0, 2]"
   ]
  },
  {
   "cell_type": "code",
   "execution_count": null,
   "metadata": {},
   "outputs": [],
   "source": [
    "#Deaths \n",
    "fig, ax = plt.subplots(figsize=(20,20))\n",
    "ax.set_facecolor('white')\n",
    "chicago_rates_zip.plot(ax=ax, column=chicago_rates_zip.death_rate, legend=True, cmap='OrRd')\n",
    "texts = []\n",
    "\n",
    "for x, y, label in zip(za_points.geometry.x, za_points.geometry.y, za_points[\"community\"]):\n",
    "    texts.append(plt.text(x, y, label, fontsize = 8))\n",
    "plt.savefig('death_rates.png')"
   ]
  },
  {
   "cell_type": "code",
   "execution_count": null,
   "metadata": {},
   "outputs": [],
   "source": [
    "#Cases\n",
    "fig, ax = plt.subplots(figsize=(20,20))\n",
    "ax.set_facecolor('white')\n",
    "chicago_rates_zip.plot(ax=ax, column=chicago_rates_zip.case_rate, legend=True, cmap='RdPu')\n",
    "texts = []\n",
    "\n",
    "for x, y, label in zip(za_points.geometry.x, za_points.geometry.y, za_points[\"community\"]):\n",
    "    texts.append(plt.text(x, y, label, fontsize = 8))\n",
    "plt.savefig('case_rates.png')"
   ]
  },
  {
   "cell_type": "code",
   "execution_count": null,
   "metadata": {},
   "outputs": [],
   "source": [
    "##Sabina's visualizations\n",
    "#for more detail, refer to Sabina_SummaryStats"
   ]
  },
  {
   "cell_type": "code",
   "execution_count": null,
   "metadata": {},
   "outputs": [],
   "source": [
    "def create_word_cloud(dataframe, column, sep_val, stop_words, outputfilename):\n",
    "    '''\n",
    "    Function to create a wordcloud based on the text in a specified column of a specified\n",
    "    dataframe. In the business dataset, the words in 'alias' are seperated by '-' but\n",
    "    in name by ' ' so we specify that as a parameter as well. Additionally, if there are \n",
    "    stop words beyond those included in the wordcloud package, they can be added (adding 'chicago' \n",
    "    proves to clean many of our word cloud outputs)\n",
    "    '''\n",
    "    \n",
    "    full_terms = \"\"\n",
    "    for response in dataframe[column]:\n",
    "        sep_resp = response.replace(sep_val, ' ').split(' ')\n",
    "        for word in sep_resp: #append word\n",
    "            full_terms += word.lower() + \" \" #\" \".join(word.lower())+\" \"#.append(word.lower())\n",
    "\n",
    "    mystopwords = copy.deepcopy(set(STOPWORDS))\n",
    "    for stop_w in stop_words:\n",
    "        mystopwords.add(stop_w)\n",
    "\n",
    "    mywordcloud = WordCloud(width = 800, height = 800, \n",
    "                    background_color ='white', \n",
    "                    stopwords = mystopwords, \n",
    "                    min_font_size = 10).generate(full_terms) \n",
    "\n",
    "    # plot the WordCloud image                        \n",
    "    plt.figure(figsize = (8, 8), facecolor = None) \n",
    "    plt.imshow(mywordcloud) \n",
    "    plt.axis(\"off\") \n",
    "    plt.tight_layout(pad = 0) \n",
    "\n",
    "    plt.show()\n",
    "    \n",
    "    mywordcloud.to_file(outputfilename)\n",
    "    \n",
    "    return full_terms\n",
    "        \n",
    "#alias_list = [alias_list.append(alias) for alias in all_businesses['alias']]"
   ]
  },
  {
   "cell_type": "code",
   "execution_count": null,
   "metadata": {},
   "outputs": [],
   "source": [
    "means = {'type': ['review_count', 'rating'], 'closed': [round(closed[['review_count']].mean()[0],2), round(closed[['rating']].mean()[0], 2)], 'open': [round(_open[['review_count']].mean()[0], 2), round(_open[['rating']].mean()[0],2)], 'all_businesses': [round(all_businesses[['review_count']].mean()[0], 2), round(all_businesses[['rating']].mean()[0], 2)]}\n",
    "pd.DataFrame(means)"
   ]
  },
  {
   "cell_type": "code",
   "execution_count": null,
   "metadata": {},
   "outputs": [],
   "source": [
    "busi_type = copy.deepcopy(all_businesses.groupby(\"business_type\"))\n",
    "#to avoid changing the original dataset\n",
    "desc_df = pd.DataFrame(busi_type.describe())\n",
    "#.sort_values('count', ascending=False)\n",
    "desc_df['review_count'].sort_values('count', ascending=False)[0:20]"
   ]
  },
  {
   "cell_type": "code",
   "execution_count": null,
   "metadata": {},
   "outputs": [],
   "source": [
    "## Word density plot of the alias (descriptors) for ALL businesses in chicago"
   ]
  },
  {
   "cell_type": "code",
   "execution_count": null,
   "metadata": {},
   "outputs": [],
   "source": [
    "all_businesses = restaurant\n",
    "\n",
    "cleaned_alias = create_word_cloud(all_businesses, 'alias', '-', ['chicago'], \"all_alias_wordcloud.png\")\n",
    "\n",
    "uncleaned_res_name = create_word_cloud(all_businesses, 'name', ' ', [], \"all_name_wordcloud.png\")"
   ]
  },
  {
   "cell_type": "code",
   "execution_count": null,
   "metadata": {},
   "outputs": [],
   "source": [
    "## Word clouds of the alias (descriptors) and restaurant names for open and closed businesses in chicago - as a comparison"
   ]
  },
  {
   "cell_type": "code",
   "execution_count": null,
   "metadata": {},
   "outputs": [],
   "source": [
    "closed_alias_wc = create_word_cloud(closed, 'alias', '-', ['chicago'], \"closed_alias_wordcloud.png\")\n",
    "\n",
    "open_alias_wc = create_word_cloud(_open, 'alias', '-', ['chicago'], \"open_alias_wordcloud.png\")\n",
    "\n",
    "closed_name_wc = create_word_cloud(closed, 'name', '-', [], \"closed_name_wordcloud.png\")\n",
    "\n",
    "open_name_wc = create_word_cloud(_open, 'name', '-', [], \"open_name_wordcloud.png\")"
   ]
  },
  {
   "cell_type": "code",
   "execution_count": null,
   "metadata": {},
   "outputs": [],
   "source": [
    "rating_zipc_df = _open.groupby(['zip_code'],as_index = True)['rating'].mean()\n",
    "reviews_zipc_df = _open.groupby(['zip_code'],as_index = True)['review_count'].mean()\n",
    "merge_rating_reviews = pd.merge(rating_zipc_df, reviews_zipc_df, on='zip_code')"
   ]
  },
  {
   "cell_type": "code",
   "execution_count": null,
   "metadata": {},
   "outputs": [],
   "source": [
    "closed_rating_zipc_df = closed.groupby(['zip_code'],as_index = True)['rating'].mean()\n",
    "closed_reviews_zipc_df = closed.groupby(['zip_code'],as_index = True)['review_count'].mean()\n",
    "\n",
    "closed_merge_rating_reviews = pd.merge(closed_rating_zipc_df, closed_reviews_zipc_df, on='zip_code')\n",
    "\n",
    "closed_rate_mean = closed_merge_rating_reviews['rating'].mean()\n",
    "closed_merge_rating_reviews[\"rating_eval\"] = [\"above average\" if rate > closed_rate_mean else \"below average\" for rate in closed_merge_rating_reviews['rating']]\n",
    "closed_merge_rating_reviews.reset_index(inplace=True)\n",
    "\n",
    "merge_rating_reviews['is_closed'] = False\n",
    "closed_merge_rating_reviews['is_closed'] = True\n",
    "all_merge_rating_reviews = pd.concat([merge_rating_reviews, closed_merge_rating_reviews])\n",
    "\n",
    "all_merge_rating_reviews\n"
   ]
  },
  {
   "cell_type": "code",
   "execution_count": null,
   "metadata": {},
   "outputs": [],
   "source": [
    "#ax = sns.barplot(x=\"day\", y=\"total_bill\", hue=\"sex\", data=tips)\n",
    "sns.set_context(\"paper\", font_scale=1.2)\n",
    "sns.set_theme(style=\"whitegrid\")\n",
    "avg_rating_eval = sns.barplot(x = \"zip_code\", y = \"review_count\", hue = \"is_closed\", data = all_merge_rating_reviews).set_title(\"Average Review Counts per Zip Code of both Open and Closed Businesses\")\n",
    "fig = avg_rating_eval.get_figure()\n",
    "fig.set_size_inches(15, 8.27)\n",
    "fig.savefig('ALL_avg_reviews.png')\n"
   ]
  },
  {
   "cell_type": "code",
   "execution_count": null,
   "metadata": {},
   "outputs": [],
   "source": [
    "sns.set_context(\"paper\", font_scale=1.2)\n",
    "sns.set_theme(style=\"whitegrid\")\n",
    "avg_rating_eval = sns.barplot(x = \"zip_code\", y = \"rating\", hue = \"is_closed\", data = all_merge_rating_reviews).set_title(\"Average Rating per Zip Code for both Open and Closed Businesses\")\n",
    "fig = avg_rating_eval.get_figure()\n",
    "fig.set_size_inches(15, 8.27)\n",
    "fig.savefig('ALL_avg_rating.png')"
   ]
  },
  {
   "cell_type": "code",
   "execution_count": null,
   "metadata": {},
   "outputs": [],
   "source": [
    "merge_rating_reviews = pd.merge(rating_zipc_df, reviews_zipc_df, on='zip_code')\n",
    "pd.DataFrame(merge_rating_reviews)"
   ]
  },
  {
   "cell_type": "code",
   "execution_count": null,
   "metadata": {},
   "outputs": [],
   "source": [
    "rating_zipc_df.sort_values(ascending=False).head() #max = 5\n",
    "reviews_zipc_df.sort_values(ascending=False).head() #max = 403\n",
    "closed_rating_zipc_df.sort_values(ascending=False).head() #max = 5\n",
    "closed_reviews_zipc_df.sort_values(ascending=False).head() #max = 310"
   ]
  },
  {
   "cell_type": "code",
   "execution_count": null,
   "metadata": {},
   "outputs": [],
   "source": [
    "#ax = sns.barplot(x=\"day\", y=\"total_bill\", hue=\"sex\", data=tips)\n",
    "\n",
    "merge_rating_reviews.reset_index(inplace=True)\n",
    "open_rate_mean = merge_rating_reviews['rating'].mean()\n",
    "merge_rating_reviews[\"rating_eval\"] = [\"above average\" if rate > open_rate_mean else \"below average\" for rate in merge_rating_reviews['rating']]\n",
    "merge_rating_reviews.reset_index(inplace=True)\n",
    "\n",
    "sns.set_context(\"paper\", font_scale=1.2)\n",
    "sns.set_theme(style=\"whitegrid\")\n",
    "avg_rating_eval = sns.barplot(x = \"zip_code\", y = \"review_count\", hue = \"rating_eval\", data = merge_rating_reviews).set_title(\"Scaled Mean Review Counts per Zip Code for Open Businesses\")\n",
    "fig = avg_rating_eval.get_figure()\n",
    "fig.set_size_inches(15, 8.27)\n",
    "fig.savefig('OPENavg_rating_eval.png')\n"
   ]
  },
  {
   "cell_type": "code",
   "execution_count": null,
   "metadata": {},
   "outputs": [],
   "source": [
    "#ax = sns.barplot(x=\"day\", y=\"total_bill\", hue=\"sex\", data=tips)\n",
    "sns.set_context(\"paper\", font_scale=1.2)\n",
    "sns.color_palette(\"hls\", 8)\n",
    "closed_avg_rating_eval = sns.barplot(x = \"zip_code\", y = \"review_count\", hue = \"rating_eval\", data = closed_merge_rating_reviews).set_title(\"Scaled Mean Review Counts per Zip Code for Closed Businesses\")\n",
    "fig = closed_avg_rating_eval.get_figure()\n",
    "fig.set_size_inches(15, 8.27)\n",
    "fig.savefig('CLOSEDavg_rating_eval.png')\n",
    "\n",
    "\n",
    "\n",
    "sns.set_context(\"paper\", font_scale=1.2)\n",
    "avg_rating_eval = sns.barplot(x = \"zip_code\", y = \"review_count\", hue = \"rating_eval\", data = merge_rating_reviews).set_title(\"Scaled Mean Review Counts per Zip Code\")\n",
    "fig = avg_rating_eval.get_figure()\n",
    "fig.set_size_inches(15, 8.27)\n",
    "fig.savefig('avg_rating_eval.png')\n"
   ]
  },
  {
   "cell_type": "code",
   "execution_count": null,
   "metadata": {},
   "outputs": [],
   "source": []
  }
 ],
 "metadata": {
  "kernelspec": {
   "display_name": "Python 3",
   "language": "python",
   "name": "python3"
  },
  "language_info": {
   "codemirror_mode": {
    "name": "ipython",
    "version": 3
   },
   "file_extension": ".py",
   "mimetype": "text/x-python",
   "name": "python",
   "nbconvert_exporter": "python",
   "pygments_lexer": "ipython3",
   "version": "3.8.5"
  }
 },
 "nbformat": 4,
 "nbformat_minor": 5
}
