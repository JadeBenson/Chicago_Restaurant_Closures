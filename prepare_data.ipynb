{
 "cells": [
  {
   "cell_type": "code",
   "execution_count": 80,
   "metadata": {},
   "outputs": [],
   "source": [
    "import pandas as pd\n",
    "import ast"
   ]
  },
  {
   "cell_type": "code",
   "execution_count": 101,
   "metadata": {},
   "outputs": [],
   "source": [
    "businesses1 = pd.read_csv('yelp_results_from_missing_after_1_wb.csv', index_col=0)"
   ]
  },
  {
   "cell_type": "code",
   "execution_count": 102,
   "metadata": {
    "scrolled": true
   },
   "outputs": [],
   "source": [
    "businesses2 = pd.read_csv('yelp_results_from_missing_after_2_wb.csv', index_col=0)"
   ]
  },
  {
   "cell_type": "code",
   "execution_count": 103,
   "metadata": {},
   "outputs": [],
   "source": [
    "businesses3 = pd.read_csv('yelp_results_from_now_closed_wb.csv', index_col=0)"
   ]
  },
  {
   "cell_type": "code",
   "execution_count": 108,
   "metadata": {},
   "outputs": [],
   "source": [
    "businesses3.is_closed = True"
   ]
  },
  {
   "cell_type": "code",
   "execution_count": 174,
   "metadata": {},
   "outputs": [],
   "source": [
    "sabina = pd.read_csv('CSVs/SH_all_business_query.csv', index_col=0)\n",
    "jade = pd.read_csv('CSVs/all_Jade_data.csv', index_col=0)\n",
    "maxk = pd.read_csv('CSVs/mk_complete.csv', index_col=0)\n",
    "egemen = pd.read_csv('CSVs/egemen_all.csv', index_col=0)"
   ]
  },
  {
   "cell_type": "code",
   "execution_count": 192,
   "metadata": {},
   "outputs": [],
   "source": [
    "all_businesses = pd.concat([businesses1, businesses2, businesses3,\n",
    "                           sabina, jade, maxk, egemen]).drop_duplicates('id')"
   ]
  },
  {
   "cell_type": "code",
   "execution_count": 193,
   "metadata": {},
   "outputs": [
    {
     "data": {
      "text/plain": [
       "Index(['id', 'alias', 'name', 'image_url', 'is_claimed', 'is_closed', 'url',\n",
       "       'phone', 'display_phone', 'review_count', 'categories', 'rating',\n",
       "       'location', 'coordinates', 'photos', 'hours', 'transactions',\n",
       "       'business type', 'price', 'messaging', 'special_hours', 'error',\n",
       "       'distance'],\n",
       "      dtype='object')"
      ]
     },
     "execution_count": 193,
     "metadata": {},
     "output_type": "execute_result"
    }
   ],
   "source": [
    "all_businesses.columns"
   ]
  },
  {
   "cell_type": "code",
   "execution_count": 194,
   "metadata": {},
   "outputs": [],
   "source": [
    "all_businesses.drop(['phone', 'display_phone', 'coordinates', 'photos', 'hours', 'messaging', 'special_hours', 'error', 'distance', 'image_url', 'categories'],\n",
    "                    axis=1, inplace=True)\n",
    "all_businesses.rename(columns={'business type': 'business_type'}, inplace=True)\n",
    "all_businesses.reset_index(drop=True, inplace=True)"
   ]
  },
  {
   "cell_type": "code",
   "execution_count": 195,
   "metadata": {},
   "outputs": [],
   "source": [
    "def create_address(s):\n",
    "    try:\n",
    "        d = ast.literal_eval(s)\n",
    "        return d\n",
    "    except ValueError:\n",
    "        return np.NaN"
   ]
  },
  {
   "cell_type": "code",
   "execution_count": 204,
   "metadata": {},
   "outputs": [],
   "source": [
    "def create_dummy(s):\n",
    "    d = {'delivery' :False, 'pickup': False}\n",
    "    try:\n",
    "        s = ast.literal_eval(s)\n",
    "    except ValueError:\n",
    "        return np.NaN\n",
    "    if 'delivery' in s:\n",
    "        d['delivery'] = True\n",
    "    if 'pickup' in s:\n",
    "        d['pickup'] = True\n",
    "    return d"
   ]
  },
  {
   "cell_type": "code",
   "execution_count": 196,
   "metadata": {
    "scrolled": true
   },
   "outputs": [],
   "source": [
    "addresses = all_businesses.location.apply(create_address).apply(pd.Series).loc[:, ['zip_code', 'city', 'state']]"
   ]
  },
  {
   "cell_type": "code",
   "execution_count": 197,
   "metadata": {},
   "outputs": [],
   "source": [
    "all_businesses = pd.concat([all_businesses, addresses], axis=1)"
   ]
  },
  {
   "cell_type": "code",
   "execution_count": 208,
   "metadata": {},
   "outputs": [],
   "source": [
    "transactions = all_businesses.transactions.apply(create_dummy).apply(pd.Series).loc[:, ['delivery', 'pickup']]"
   ]
  },
  {
   "cell_type": "code",
   "execution_count": 210,
   "metadata": {},
   "outputs": [],
   "source": [
    "all_businesses = pd.concat([all_businesses, transactions], axis=1)"
   ]
  },
  {
   "cell_type": "code",
   "execution_count": 213,
   "metadata": {},
   "outputs": [],
   "source": [
    "all_businesses.drop(['location', 'transactions', 'url'], inplace=True, axis=1)"
   ]
  },
  {
   "cell_type": "code",
   "execution_count": 229,
   "metadata": {},
   "outputs": [],
   "source": [
    "def convert_price(s):\n",
    "    try:\n",
    "        return len(s)\n",
    "    except TypeError:\n",
    "        return np.NaN"
   ]
  },
  {
   "cell_type": "code",
   "execution_count": 231,
   "metadata": {},
   "outputs": [],
   "source": [
    "all_businesses.price = all_businesses.price.apply(convert_price)"
   ]
  },
  {
   "cell_type": "code",
   "execution_count": 243,
   "metadata": {},
   "outputs": [],
   "source": [
    "#drop businesses not in Illinois\n",
    "all_businesses = all_businesses[all_businesses['state'] == 'IL']"
   ]
  },
  {
   "cell_type": "code",
   "execution_count": 254,
   "metadata": {
    "scrolled": true
   },
   "outputs": [
    {
     "data": {
      "text/html": [
       "<div>\n",
       "<style scoped>\n",
       "    .dataframe tbody tr th:only-of-type {\n",
       "        vertical-align: middle;\n",
       "    }\n",
       "\n",
       "    .dataframe tbody tr th {\n",
       "        vertical-align: top;\n",
       "    }\n",
       "\n",
       "    .dataframe thead th {\n",
       "        text-align: right;\n",
       "    }\n",
       "</style>\n",
       "<table border=\"1\" class=\"dataframe\">\n",
       "  <thead>\n",
       "    <tr style=\"text-align: right;\">\n",
       "      <th></th>\n",
       "      <th>id</th>\n",
       "      <th>alias</th>\n",
       "      <th>name</th>\n",
       "      <th>is_claimed</th>\n",
       "      <th>is_closed</th>\n",
       "      <th>review_count</th>\n",
       "      <th>rating</th>\n",
       "      <th>business_type</th>\n",
       "      <th>price</th>\n",
       "      <th>zip_code</th>\n",
       "      <th>city</th>\n",
       "      <th>state</th>\n",
       "      <th>delivery</th>\n",
       "      <th>pickup</th>\n",
       "    </tr>\n",
       "  </thead>\n",
       "  <tbody>\n",
       "    <tr>\n",
       "      <th>0</th>\n",
       "      <td>2OGQfIsT33WC7sCKdqKuuw</td>\n",
       "      <td>carmelo-s-taco-place-chicago</td>\n",
       "      <td>Carmelo’s Taco Place</td>\n",
       "      <td>True</td>\n",
       "      <td>False</td>\n",
       "      <td>12.0</td>\n",
       "      <td>4.5</td>\n",
       "      <td>Restaurant</td>\n",
       "      <td>NaN</td>\n",
       "      <td>60629</td>\n",
       "      <td>Chicago</td>\n",
       "      <td>IL</td>\n",
       "      <td>True</td>\n",
       "      <td>True</td>\n",
       "    </tr>\n",
       "    <tr>\n",
       "      <th>1</th>\n",
       "      <td>YULX9j3fdcLtUNYHax19JA</td>\n",
       "      <td>maggie-gyros-and-chicken-chicago</td>\n",
       "      <td>Maggie Gyros &amp; Chicken</td>\n",
       "      <td>False</td>\n",
       "      <td>False</td>\n",
       "      <td>5.0</td>\n",
       "      <td>2.5</td>\n",
       "      <td>Restaurant</td>\n",
       "      <td>NaN</td>\n",
       "      <td>60653</td>\n",
       "      <td>Chicago</td>\n",
       "      <td>IL</td>\n",
       "      <td>True</td>\n",
       "      <td>True</td>\n",
       "    </tr>\n",
       "    <tr>\n",
       "      <th>2</th>\n",
       "      <td>6hhWuqvuEIEescMsh807pw</td>\n",
       "      <td>morenas-kitchen-chicago</td>\n",
       "      <td>Morena's Kitchen</td>\n",
       "      <td>True</td>\n",
       "      <td>False</td>\n",
       "      <td>41.0</td>\n",
       "      <td>4.5</td>\n",
       "      <td>Restaurant</td>\n",
       "      <td>1.0</td>\n",
       "      <td>60639</td>\n",
       "      <td>Chicago</td>\n",
       "      <td>IL</td>\n",
       "      <td>True</td>\n",
       "      <td>True</td>\n",
       "    </tr>\n",
       "    <tr>\n",
       "      <th>3</th>\n",
       "      <td>VA1mmPgB4HcOpyw_-IA6DQ</td>\n",
       "      <td>northern-trust-chicago</td>\n",
       "      <td>Northern Trust</td>\n",
       "      <td>True</td>\n",
       "      <td>False</td>\n",
       "      <td>8.0</td>\n",
       "      <td>2.5</td>\n",
       "      <td>Restaurant</td>\n",
       "      <td>NaN</td>\n",
       "      <td>60603</td>\n",
       "      <td>Chicago</td>\n",
       "      <td>IL</td>\n",
       "      <td>False</td>\n",
       "      <td>False</td>\n",
       "    </tr>\n",
       "    <tr>\n",
       "      <th>4</th>\n",
       "      <td>YHToK3BYKGJudH_UNUCeVw</td>\n",
       "      <td>deli-and-more-chicago</td>\n",
       "      <td>Deli &amp; More</td>\n",
       "      <td>True</td>\n",
       "      <td>False</td>\n",
       "      <td>9.0</td>\n",
       "      <td>4.5</td>\n",
       "      <td>Grocery Store</td>\n",
       "      <td>2.0</td>\n",
       "      <td>60657</td>\n",
       "      <td>Chicago</td>\n",
       "      <td>IL</td>\n",
       "      <td>True</td>\n",
       "      <td>True</td>\n",
       "    </tr>\n",
       "    <tr>\n",
       "      <th>...</th>\n",
       "      <td>...</td>\n",
       "      <td>...</td>\n",
       "      <td>...</td>\n",
       "      <td>...</td>\n",
       "      <td>...</td>\n",
       "      <td>...</td>\n",
       "      <td>...</td>\n",
       "      <td>...</td>\n",
       "      <td>...</td>\n",
       "      <td>...</td>\n",
       "      <td>...</td>\n",
       "      <td>...</td>\n",
       "      <td>...</td>\n",
       "      <td>...</td>\n",
       "    </tr>\n",
       "    <tr>\n",
       "      <th>12447</th>\n",
       "      <td>Pv1Hx5hz9r_9KouNpq3kzg</td>\n",
       "      <td>restaurant-cuetzala-gro-chicago</td>\n",
       "      <td>Restaurant Cuetzala Gro</td>\n",
       "      <td>NaN</td>\n",
       "      <td>False</td>\n",
       "      <td>144.0</td>\n",
       "      <td>4.5</td>\n",
       "      <td>NaN</td>\n",
       "      <td>2.0</td>\n",
       "      <td>60626</td>\n",
       "      <td>Chicago</td>\n",
       "      <td>IL</td>\n",
       "      <td>True</td>\n",
       "      <td>True</td>\n",
       "    </tr>\n",
       "    <tr>\n",
       "      <th>12448</th>\n",
       "      <td>fGUGK_BQJGUYI2b3HAlFeA</td>\n",
       "      <td>tamalito-chicago</td>\n",
       "      <td>Tamalito</td>\n",
       "      <td>NaN</td>\n",
       "      <td>False</td>\n",
       "      <td>5.0</td>\n",
       "      <td>4.0</td>\n",
       "      <td>NaN</td>\n",
       "      <td>NaN</td>\n",
       "      <td>60626</td>\n",
       "      <td>Chicago</td>\n",
       "      <td>IL</td>\n",
       "      <td>True</td>\n",
       "      <td>True</td>\n",
       "    </tr>\n",
       "    <tr>\n",
       "      <th>12449</th>\n",
       "      <td>eNgSrwPnC1KrVmJL7CSptw</td>\n",
       "      <td>rogers-park-west-ridge-historical-society-chicago</td>\n",
       "      <td>Rogers Park West Ridge Historical Society</td>\n",
       "      <td>NaN</td>\n",
       "      <td>False</td>\n",
       "      <td>1.0</td>\n",
       "      <td>5.0</td>\n",
       "      <td>NaN</td>\n",
       "      <td>NaN</td>\n",
       "      <td>60626</td>\n",
       "      <td>Chicago</td>\n",
       "      <td>IL</td>\n",
       "      <td>False</td>\n",
       "      <td>False</td>\n",
       "    </tr>\n",
       "    <tr>\n",
       "      <th>12450</th>\n",
       "      <td>QHx-ZSbJ20FBW7QqEzCWhg</td>\n",
       "      <td>lighthouse-tavern-chicago</td>\n",
       "      <td>Lighthouse Tavern</td>\n",
       "      <td>NaN</td>\n",
       "      <td>False</td>\n",
       "      <td>47.0</td>\n",
       "      <td>4.5</td>\n",
       "      <td>NaN</td>\n",
       "      <td>1.0</td>\n",
       "      <td>60626</td>\n",
       "      <td>Chicago</td>\n",
       "      <td>IL</td>\n",
       "      <td>False</td>\n",
       "      <td>False</td>\n",
       "    </tr>\n",
       "    <tr>\n",
       "      <th>12451</th>\n",
       "      <td>ZqmGZD2X4J2F1aZoB7f7iA</td>\n",
       "      <td>marion-mahony-griffin-beach-chicago</td>\n",
       "      <td>Marion Mahony Griffin Beach</td>\n",
       "      <td>NaN</td>\n",
       "      <td>False</td>\n",
       "      <td>3.0</td>\n",
       "      <td>3.5</td>\n",
       "      <td>NaN</td>\n",
       "      <td>NaN</td>\n",
       "      <td>60626</td>\n",
       "      <td>Chicago</td>\n",
       "      <td>IL</td>\n",
       "      <td>False</td>\n",
       "      <td>False</td>\n",
       "    </tr>\n",
       "  </tbody>\n",
       "</table>\n",
       "<p>12436 rows × 14 columns</p>\n",
       "</div>"
      ],
      "text/plain": [
       "                           id  \\\n",
       "0      2OGQfIsT33WC7sCKdqKuuw   \n",
       "1      YULX9j3fdcLtUNYHax19JA   \n",
       "2      6hhWuqvuEIEescMsh807pw   \n",
       "3      VA1mmPgB4HcOpyw_-IA6DQ   \n",
       "4      YHToK3BYKGJudH_UNUCeVw   \n",
       "...                       ...   \n",
       "12447  Pv1Hx5hz9r_9KouNpq3kzg   \n",
       "12448  fGUGK_BQJGUYI2b3HAlFeA   \n",
       "12449  eNgSrwPnC1KrVmJL7CSptw   \n",
       "12450  QHx-ZSbJ20FBW7QqEzCWhg   \n",
       "12451  ZqmGZD2X4J2F1aZoB7f7iA   \n",
       "\n",
       "                                                   alias  \\\n",
       "0                           carmelo-s-taco-place-chicago   \n",
       "1                       maggie-gyros-and-chicken-chicago   \n",
       "2                                morenas-kitchen-chicago   \n",
       "3                                 northern-trust-chicago   \n",
       "4                                  deli-and-more-chicago   \n",
       "...                                                  ...   \n",
       "12447                    restaurant-cuetzala-gro-chicago   \n",
       "12448                                   tamalito-chicago   \n",
       "12449  rogers-park-west-ridge-historical-society-chicago   \n",
       "12450                          lighthouse-tavern-chicago   \n",
       "12451                marion-mahony-griffin-beach-chicago   \n",
       "\n",
       "                                            name is_claimed is_closed  \\\n",
       "0                           Carmelo’s Taco Place       True     False   \n",
       "1                         Maggie Gyros & Chicken      False     False   \n",
       "2                               Morena's Kitchen       True     False   \n",
       "3                                 Northern Trust       True     False   \n",
       "4                                    Deli & More       True     False   \n",
       "...                                          ...        ...       ...   \n",
       "12447                    Restaurant Cuetzala Gro        NaN     False   \n",
       "12448                                   Tamalito        NaN     False   \n",
       "12449  Rogers Park West Ridge Historical Society        NaN     False   \n",
       "12450                          Lighthouse Tavern        NaN     False   \n",
       "12451                Marion Mahony Griffin Beach        NaN     False   \n",
       "\n",
       "       review_count  rating  business_type  price zip_code     city state  \\\n",
       "0              12.0     4.5     Restaurant    NaN    60629  Chicago    IL   \n",
       "1               5.0     2.5     Restaurant    NaN    60653  Chicago    IL   \n",
       "2              41.0     4.5     Restaurant    1.0    60639  Chicago    IL   \n",
       "3               8.0     2.5     Restaurant    NaN    60603  Chicago    IL   \n",
       "4               9.0     4.5  Grocery Store    2.0    60657  Chicago    IL   \n",
       "...             ...     ...            ...    ...      ...      ...   ...   \n",
       "12447         144.0     4.5            NaN    2.0    60626  Chicago    IL   \n",
       "12448           5.0     4.0            NaN    NaN    60626  Chicago    IL   \n",
       "12449           1.0     5.0            NaN    NaN    60626  Chicago    IL   \n",
       "12450          47.0     4.5            NaN    1.0    60626  Chicago    IL   \n",
       "12451           3.0     3.5            NaN    NaN    60626  Chicago    IL   \n",
       "\n",
       "      delivery pickup  \n",
       "0         True   True  \n",
       "1         True   True  \n",
       "2         True   True  \n",
       "3        False  False  \n",
       "4         True   True  \n",
       "...        ...    ...  \n",
       "12447     True   True  \n",
       "12448     True   True  \n",
       "12449    False  False  \n",
       "12450    False  False  \n",
       "12451    False  False  \n",
       "\n",
       "[12436 rows x 14 columns]"
      ]
     },
     "execution_count": 254,
     "metadata": {},
     "output_type": "execute_result"
    }
   ],
   "source": [
    "all_businesses"
   ]
  },
  {
   "cell_type": "code",
   "execution_count": 245,
   "metadata": {
    "scrolled": true
   },
   "outputs": [],
   "source": [
    "covid = pd.read_csv('COVID-19_Cases__Tests__and_Deaths_by_ZIP_Code.csv')"
   ]
  },
  {
   "cell_type": "code",
   "execution_count": 270,
   "metadata": {
    "scrolled": true
   },
   "outputs": [],
   "source": [
    "covid_small = covid[covid['Week Number'] == 53]\n",
    "covid_small = covid_small.loc[:, ['ZIP Code', 'Cases - Cumulative', 'Tests - Cumulative', 'Deaths - Cumulative', 'Population']]"
   ]
  },
  {
   "cell_type": "code",
   "execution_count": 276,
   "metadata": {
    "scrolled": true
   },
   "outputs": [],
   "source": [
    "all_businesses = all_businesses.merge(covid_small, how='left', left_on='zip_code', right_on='ZIP Code').drop(['ZIP Code'], axis=1).rename(columns={'Cases - Cumulative': 'covid_cases', 'Tests - Cumulative': 'covid_tests', 'Deaths - Cumulative': 'covid_deaths', 'Population': 'zipcode_population'})"
   ]
  },
  {
   "cell_type": "code",
   "execution_count": 290,
   "metadata": {},
   "outputs": [],
   "source": [
    "all_businesses.reset_index(drop=True, inplace=True)"
   ]
  },
  {
   "cell_type": "code",
   "execution_count": 297,
   "metadata": {},
   "outputs": [],
   "source": [
    "all_businesses.to_csv('CSVs/all_businesses.csv')"
   ]
  },
  {
   "cell_type": "code",
   "execution_count": null,
   "metadata": {},
   "outputs": [],
   "source": []
  }
 ],
 "metadata": {
  "kernelspec": {
   "display_name": "Python 3",
   "language": "python",
   "name": "python3"
  },
  "language_info": {
   "codemirror_mode": {
    "name": "ipython",
    "version": 3
   },
   "file_extension": ".py",
   "mimetype": "text/x-python",
   "name": "python",
   "nbconvert_exporter": "python",
   "pygments_lexer": "ipython3",
   "version": "3.8.3"
  }
 },
 "nbformat": 4,
 "nbformat_minor": 4
}
