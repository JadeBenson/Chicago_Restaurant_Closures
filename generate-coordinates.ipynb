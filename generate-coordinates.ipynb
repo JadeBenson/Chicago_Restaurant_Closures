{
 "cells": [
  {
   "cell_type": "code",
   "execution_count": 3,
   "metadata": {},
   "outputs": [
    {
     "name": "stdout",
     "output_type": "stream",
     "text": [
      "Collecting geopy\n",
      "  Downloading geopy-2.1.0-py3-none-any.whl (112 kB)\n",
      "\u001b[K     |████████████████████████████████| 112 kB 2.7 MB/s eta 0:00:01\n",
      "\u001b[?25hCollecting geographiclib<2,>=1.49\n",
      "  Downloading geographiclib-1.50-py3-none-any.whl (38 kB)\n",
      "Installing collected packages: geographiclib, geopy\n",
      "Successfully installed geographiclib-1.50 geopy-2.1.0\n"
     ]
    }
   ],
   "source": [
    "!pip install geopy"
   ]
  },
  {
   "cell_type": "code",
   "execution_count": 7,
   "metadata": {
    "scrolled": false
   },
   "outputs": [],
   "source": [
    "import geopy.distance\n",
    "import numpy as np\n",
    "import pandas as pd"
   ]
  },
  {
   "cell_type": "code",
   "execution_count": 48,
   "metadata": {},
   "outputs": [],
   "source": [
    "def gen_coordinates(topleft=(42.018708, -87.822461), botright=(41.644748, -87.524522), radius=200):\n",
    "    '''\n",
    "    Generates a list of coordinates corresponding to center points of non-intersecting circles.\n",
    "    \n",
    "    Inputs:\n",
    "        topleft: tuple that contains the coordinates for the northwest corner of the rectangle.\n",
    "        botright: tuple that contains the coordinates for the southeast corner of the rectangle.\n",
    "        radius: interval at which the coordinates will be generated (in meters).\n",
    "        \n",
    "    Outputs:\n",
    "        list of tuples containing coordinates partially covering the area of the rectangle. \n",
    "    '''\n",
    "    \n",
    "    #trying to find out what 0.000001 change in lat and lon corresponds to in meters\n",
    "    \n",
    "    #make an estimate by taking the average of meter change in the farthest 2 points of the rectangle\n",
    "    \n",
    "    compare_tl = (topleft[0] + 1/1000000, topleft[1])\n",
    "    compare_br = (botright[0] + 1/1000000, botright[1])\n",
    "    \n",
    "    #geopy.distance.distance(c1, c2).m gives the distance between coordinates c1 and c2 in meters.\n",
    "    \n",
    "    lat_unit = (geopy.distance.distance(compare_tl, topleft).m + \n",
    "                geopy.distance.distance(compare_br, botright).m) / 2\n",
    "    \n",
    "    compare_tl = (topleft[0], topleft[1] + 1/1000000)\n",
    "    compare_br = (botright[0], botright[1] + 1/1000000)\n",
    "    long_unit = (geopy.distance.distance(compare_tl, topleft).m + \n",
    "                geopy.distance.distance(compare_br, botright).m) / 2\n",
    "    \n",
    "    v = radius / lat_unit / 1000000\n",
    "    h = radius / long_unit / 1000000\n",
    "\n",
    "    #h and v are how much we should change the lat and long values to move north/south and \n",
    "    #east/west by radius meters.\n",
    "    \n",
    "    lats = np.arange(min(topleft[0], botright[0]), max(topleft[0], botright[0]), v * 2)\n",
    "    longs = np.arange(min(topleft[1], botright[1]), max(topleft[1], botright[1]), h * 2)\n",
    "    \n",
    "    coords = [(round(lat, 6), round(long, 6)) for lat in lats for long in longs]\n",
    "    \n",
    "    #fillers will be used to generate lats and longs that cover the areas between the circles\n",
    "    \n",
    "    filler_tl = (round(topleft[0] - v, 6), round(topleft[1] + h, 6))\n",
    "    filler_br = (round(botright[0] + v, 6), round(botright[1] - h, 6))\n",
    "\n",
    "    \n",
    "    \n",
    "    return(coords, filler_tl, filler_br)"
   ]
  },
  {
   "cell_type": "code",
   "execution_count": 49,
   "metadata": {},
   "outputs": [],
   "source": [
    "def gen_coords_helper(topleft=(42.018708, -87.822461), botright=(41.644748, -87.524522), radius=200):\n",
    "    '''\n",
    "    Helper function that calls gen_coordinates two times and aggregates results to cover for the \n",
    "    areas between the initial set of circles.\n",
    "    \n",
    "    Inputs:\n",
    "        topleft: tuple that contains the coordinates for the northwest corner of the rectangle.\n",
    "            Default value is the coordinates for the northwest corner of Chicago. \n",
    "        botright: tuple that contains the coordinates for the southeast corner of the rectangle.\n",
    "            Default value is the coordinates for the southeast corner of Chicago. \n",
    "        radius: interval at which the coordinates will be generated (in meters).\n",
    "        \n",
    "    Outputs:\n",
    "        list of tuples containing coordinates covering the area of the rectangle. \n",
    "    '''\n",
    "    coords, filler_tl, filler_br = gen_coordinates(topleft, botright, radius)\n",
    "    #add the coordinates for the areas in between the initial circles\n",
    "    coords += gen_coordinates(filler_tl, filler_br, radius)[0]\n",
    "    return coords"
   ]
  },
  {
   "cell_type": "code",
   "execution_count": 81,
   "metadata": {
    "scrolled": true
   },
   "outputs": [],
   "source": [
    "coordinates = gen_coords_helper(radius=200)"
   ]
  },
  {
   "cell_type": "code",
   "execution_count": 82,
   "metadata": {},
   "outputs": [
    {
     "data": {
      "text/plain": [
       "12731"
      ]
     },
     "execution_count": 82,
     "metadata": {},
     "output_type": "execute_result"
    }
   ],
   "source": [
    "len(coordinates)"
   ]
  },
  {
   "cell_type": "code",
   "execution_count": 83,
   "metadata": {},
   "outputs": [
    {
     "data": {
      "text/plain": [
       "[(41.644748, -87.822461),\n",
       " (41.644748, -87.817646),\n",
       " (41.644748, -87.81283),\n",
       " (41.644748, -87.808015),\n",
       " (41.644748, -87.8032),\n",
       " (41.644748, -87.798384),\n",
       " (41.644748, -87.793569),\n",
       " (41.644748, -87.788754),\n",
       " (41.644748, -87.783938),\n",
       " (41.644748, -87.779123)]"
      ]
     },
     "execution_count": 83,
     "metadata": {},
     "output_type": "execute_result"
    }
   ],
   "source": [
    "coordinates[:10]"
   ]
  }
 ],
 "metadata": {
  "kernelspec": {
   "display_name": "Python 3",
   "language": "python",
   "name": "python3"
  },
  "language_info": {
   "codemirror_mode": {
    "name": "ipython",
    "version": 3
   },
   "file_extension": ".py",
   "mimetype": "text/x-python",
   "name": "python",
   "nbconvert_exporter": "python",
   "pygments_lexer": "ipython3",
   "version": "3.8.3"
  }
 },
 "nbformat": 4,
 "nbformat_minor": 4
}
