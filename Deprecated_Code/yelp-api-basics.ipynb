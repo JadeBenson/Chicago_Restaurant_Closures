{
 "cells": [
  {
   "cell_type": "code",
   "execution_count": null,
   "metadata": {},
   "outputs": [],
   "source": [
    "!pip3 install yelpapi"
   ]
  },
  {
   "cell_type": "code",
   "execution_count": null,
   "metadata": {},
   "outputs": [],
   "source": [
    "from yelpapi import YelpAPI #you need to get a key for Yelp Fusion API and paste it as a string below\n",
    "yelp_api = YelpAPI('sUnIX_82z98l8LLoVRUgotltFwmpH_dotr1LZsQ7UGPbsZdtDTKvJjHF7SOmw6JdMFLwJo4k4fltn-X9YsCvMLPnGBEhiyyWwibDN4a3XdDW2AxcoU1qoKuQuw8jYHYx')"
   ]
  },
  {
   "cell_type": "markdown",
   "metadata": {},
   "source": [
    "## Simple request of a closed business:"
   ]
  },
  {
   "cell_type": "code",
   "execution_count": 27,
   "metadata": {},
   "outputs": [],
   "source": [
    "response = yelp_api.search_query(term = 'Ay Ay Picante', location = '5229 S. Harper Ct.', limit = 1)\n",
    "#set limit to 50 for max number of results"
   ]
  },
  {
   "cell_type": "markdown",
   "metadata": {},
   "source": [
    "Complete list of parameters and output can be found here:\n",
    "https://www.yelp.com/developers/documentation/v3/business_search"
   ]
  },
  {
   "cell_type": "code",
   "execution_count": 28,
   "metadata": {
    "scrolled": true
   },
   "outputs": [
    {
     "data": {
      "text/plain": [
       "{'businesses': [{'id': 'NHCYS3udwbhO6qKeXx04hA',\n",
       "   'alias': 'ay-ay-picante-chicago-3',\n",
       "   'name': 'Ay Ay Picante',\n",
       "   'image_url': 'https://s3-media4.fl.yelpcdn.com/bphoto/2TBMl1wPDPlP2ZWnCXnsVw/o.jpg',\n",
       "   'is_closed': True,\n",
       "   'url': 'https://www.yelp.com/biz/ay-ay-picante-chicago-3?adjust_creative=GHmORxIUWUa6KDN77-TJIw&utm_campaign=yelp_api_v3&utm_medium=api_v3_business_search&utm_source=GHmORxIUWUa6KDN77-TJIw',\n",
       "   'review_count': 579,\n",
       "   'categories': [{'alias': 'seafood', 'title': 'Seafood'},\n",
       "    {'alias': 'peruvian', 'title': 'Peruvian'}],\n",
       "   'rating': 4.0,\n",
       "   'coordinates': {'latitude': 41.964112, 'longitude': -87.734107},\n",
       "   'transactions': ['delivery', 'pickup'],\n",
       "   'price': '$$',\n",
       "   'location': {'address1': '4569 N Elston Ave',\n",
       "    'address2': None,\n",
       "    'address3': '',\n",
       "    'city': 'Chicago',\n",
       "    'zip_code': '60630',\n",
       "    'country': 'US',\n",
       "    'state': 'IL',\n",
       "    'display_address': ['4569 N Elston Ave', 'Chicago, IL 60630']},\n",
       "   'phone': '+17734274239',\n",
       "   'display_phone': '(773) 427-4239',\n",
       "   'distance': 21883.757606440886}],\n",
       " 'total': 7,\n",
       " 'region': {'center': {'longitude': -87.58798599243164,\n",
       "   'latitude': 41.800108346466715}}}"
      ]
     },
     "execution_count": 28,
     "metadata": {},
     "output_type": "execute_result"
    }
   ],
   "source": [
    "response"
   ]
  },
  {
   "cell_type": "markdown",
   "metadata": {},
   "source": [
    "## Query for business details:\n",
    "\n",
    "Takes in business id from search_query() and returns additional details"
   ]
  },
  {
   "cell_type": "code",
   "execution_count": 29,
   "metadata": {
    "scrolled": true
   },
   "outputs": [
    {
     "data": {
      "text/plain": [
       "{'id': 'NHCYS3udwbhO6qKeXx04hA',\n",
       " 'alias': 'ay-ay-picante-chicago-3',\n",
       " 'name': 'Ay Ay Picante',\n",
       " 'image_url': 'https://s3-media4.fl.yelpcdn.com/bphoto/2TBMl1wPDPlP2ZWnCXnsVw/o.jpg',\n",
       " 'is_claimed': True,\n",
       " 'is_closed': True,\n",
       " 'url': 'https://www.yelp.com/biz/ay-ay-picante-chicago-3?adjust_creative=GHmORxIUWUa6KDN77-TJIw&utm_campaign=yelp_api_v3&utm_medium=api_v3_business_lookup&utm_source=GHmORxIUWUa6KDN77-TJIw',\n",
       " 'phone': '+17734274239',\n",
       " 'display_phone': '(773) 427-4239',\n",
       " 'review_count': 579,\n",
       " 'categories': [{'alias': 'seafood', 'title': 'Seafood'},\n",
       "  {'alias': 'peruvian', 'title': 'Peruvian'}],\n",
       " 'rating': 4.0,\n",
       " 'location': {'address1': '4569 N Elston Ave',\n",
       "  'address2': None,\n",
       "  'address3': '',\n",
       "  'city': 'Chicago',\n",
       "  'zip_code': '60630',\n",
       "  'country': 'US',\n",
       "  'state': 'IL',\n",
       "  'display_address': ['4569 N Elston Ave', 'Chicago, IL 60630'],\n",
       "  'cross_streets': 'Kiona Ave & Kennicott Ave'},\n",
       " 'coordinates': {'latitude': 41.964112, 'longitude': -87.734107},\n",
       " 'photos': ['https://s3-media4.fl.yelpcdn.com/bphoto/2TBMl1wPDPlP2ZWnCXnsVw/o.jpg',\n",
       "  'https://s3-media3.fl.yelpcdn.com/bphoto/LQsWTDp5X3ogA99oC6WHzw/o.jpg',\n",
       "  'https://s3-media1.fl.yelpcdn.com/bphoto/K5NCbEhFBrzfOpyx69YHWw/o.jpg'],\n",
       " 'price': '$$',\n",
       " 'hours': [{'open': [{'is_overnight': False,\n",
       "     'start': '1200',\n",
       "     'end': '2230',\n",
       "     'day': 0},\n",
       "    {'is_overnight': False, 'start': '1200', 'end': '2230', 'day': 1},\n",
       "    {'is_overnight': False, 'start': '1200', 'end': '2230', 'day': 2},\n",
       "    {'is_overnight': False, 'start': '1200', 'end': '2230', 'day': 3},\n",
       "    {'is_overnight': False, 'start': '1200', 'end': '2300', 'day': 4},\n",
       "    {'is_overnight': False, 'start': '1200', 'end': '2300', 'day': 5},\n",
       "    {'is_overnight': False, 'start': '1200', 'end': '2230', 'day': 6}],\n",
       "   'hours_type': 'REGULAR',\n",
       "   'is_open_now': False}],\n",
       " 'transactions': ['pickup', 'delivery']}"
      ]
     },
     "execution_count": 29,
     "metadata": {},
     "output_type": "execute_result"
    }
   ],
   "source": [
    "yelp_api.business_query('NHCYS3udwbhO6qKeXx04hA') "
   ]
  },
  {
   "cell_type": "markdown",
   "metadata": {},
   "source": [
    "List and descriptions of output: https://www.yelp.com/developers/documentation/v3/business"
   ]
  },
  {
   "cell_type": "markdown",
   "metadata": {},
   "source": [
    "### They provide another endpoint to make matching records from another database (e.g. City) easier too!\n",
    "https://www.yelp.com/developers/documentation/v3/business_match"
   ]
  },
  {
   "cell_type": "code",
   "execution_count": null,
   "metadata": {},
   "outputs": [],
   "source": []
  }
 ],
 "metadata": {
  "kernelspec": {
   "display_name": "Python 3",
   "language": "python",
   "name": "python3"
  },
  "language_info": {
   "codemirror_mode": {
    "name": "ipython",
    "version": 3
   },
   "file_extension": ".py",
   "mimetype": "text/x-python",
   "name": "python",
   "nbconvert_exporter": "python",
   "pygments_lexer": "ipython3",
   "version": "3.8.3"
  }
 },
 "nbformat": 4,
 "nbformat_minor": 4
}
