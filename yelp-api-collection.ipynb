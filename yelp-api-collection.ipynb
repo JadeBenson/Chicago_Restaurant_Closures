{
 "cells": [
  {
   "cell_type": "markdown",
   "metadata": {},
   "source": [
    "## Import packages and define functions\n",
    "\n",
    "from Egemen's file 'generate coordinates'"
   ]
  },
  {
   "cell_type": "code",
   "execution_count": 10,
   "metadata": {},
   "outputs": [],
   "source": [
    "import geopy.distance\n",
    "import numpy as np\n",
    "import pandas as pd\n",
    "import csv"
   ]
  },
  {
   "cell_type": "code",
   "execution_count": 11,
   "metadata": {},
   "outputs": [],
   "source": [
    "def gen_coordinates(topleft=(42.018708, -87.822461), botright=(41.644748, -87.524522), radius=200):\n",
    "    '''\n",
    "    Generates a list of coordinates corresponding to center points of non-intersecting circles.\n",
    "    \n",
    "    Inputs:\n",
    "        topleft: tuple that contains the coordinates for the northwest corner of the rectangle.\n",
    "        botright: tuple that contains the coordinates for the southeast corner of the rectangle.\n",
    "        radius: interval at which the coordinates will be generated (in meters).\n",
    "        \n",
    "    Outputs:\n",
    "        list of tuples containing coordinates partially covering the area of the rectangle. \n",
    "    '''\n",
    "    \n",
    "    #trying to find out what 0.000001 change in lat and lon corresponds to in meters\n",
    "    \n",
    "    #make an estimate by taking the average of meter change in the farthest 2 points of the rectangle\n",
    "    \n",
    "    compare_tl = (topleft[0] + 1/1000000, topleft[1])\n",
    "    compare_br = (botright[0] + 1/1000000, botright[1])\n",
    "    \n",
    "    #geopy.distance.distance(c1, c2).m gives the distance between coordinates c1 and c2 in meters.\n",
    "    \n",
    "    lat_unit = (geopy.distance.distance(compare_tl, topleft).m + \n",
    "                geopy.distance.distance(compare_br, botright).m) / 2\n",
    "    \n",
    "    compare_tl = (topleft[0], topleft[1] + 1/1000000)\n",
    "    compare_br = (botright[0], botright[1] + 1/1000000)\n",
    "    long_unit = (geopy.distance.distance(compare_tl, topleft).m + \n",
    "                geopy.distance.distance(compare_br, botright).m) / 2\n",
    "    \n",
    "    v = radius / lat_unit / 1000000\n",
    "    h = radius / long_unit / 1000000\n",
    "\n",
    "    #h and v are how much we should change the lat and long values to move north/south and \n",
    "    #east/west by radius meters.\n",
    "    \n",
    "    lats = np.arange(min(topleft[0], botright[0]), max(topleft[0], botright[0]), v * 2)\n",
    "    longs = np.arange(min(topleft[1], botright[1]), max(topleft[1], botright[1]), h * 2)\n",
    "    \n",
    "    coords = [(round(lat, 6), round(long, 6)) for lat in lats for long in longs]\n",
    "    \n",
    "    #fillers will be used to generate lats and longs that cover the areas between the circles\n",
    "    \n",
    "    filler_tl = (round(topleft[0] - v, 6), round(topleft[1] + h, 6))\n",
    "    filler_br = (round(botright[0] + v, 6), round(botright[1] - h, 6))\n",
    "\n",
    "    \n",
    "    \n",
    "    return(coords, filler_tl, filler_br)"
   ]
  },
  {
   "cell_type": "code",
   "execution_count": 12,
   "metadata": {},
   "outputs": [],
   "source": [
    "def gen_coords_helper(topleft=(42.018708, -87.822461), botright=(41.644748, -87.524522), radius=200):\n",
    "    '''\n",
    "    Helper function that calls gen_coordinates two times and aggregates results to cover for the \n",
    "    areas between the initial set of circles.\n",
    "    \n",
    "    Inputs:\n",
    "        topleft: tuple that contains the coordinates for the northwest corner of the rectangle.\n",
    "            Default value is the coordinates for the northwest corner of Chicago. \n",
    "        botright: tuple that contains the coordinates for the southeast corner of the rectangle.\n",
    "            Default value is the coordinates for the southeast corner of Chicago. \n",
    "        radius: interval at which the coordinates will be generated (in meters).\n",
    "        \n",
    "    Outputs:\n",
    "        list of tuples containing coordinates covering the area of the rectangle. \n",
    "    '''\n",
    "    coords, filler_tl, filler_br = gen_coordinates(topleft, botright, radius)\n",
    "    #add the coordinates for the areas in between the initial circles\n",
    "    coords += gen_coordinates(filler_tl, filler_br, radius)[0]\n",
    "    return coords"
   ]
  },
  {
   "cell_type": "markdown",
   "metadata": {},
   "source": [
    " ## CHANGE to your API key\n",
    " Where the key string is passed to YelpAPI(): change that to your own!!"
   ]
  },
  {
   "cell_type": "code",
   "execution_count": 13,
   "metadata": {},
   "outputs": [],
   "source": [
    "from yelpapi import YelpAPI \n",
    "yelp_api = YelpAPI('X5cEZuBhb6E5RmEG8MBX3tmznPKDvAeNccZPIfctHzVaPkitCOXhP-x0657Pq9aQ-7JE3twmkGD6WVCaSnmyh14vThLgsaPkeCSyutsLQDC7K08jUvNcv3_Zl_koYHYx')"
   ]
  },
  {
   "cell_type": "markdown",
   "metadata": {},
   "source": [
    "There are 8500 businesses listed as in Chicago"
   ]
  },
  {
   "cell_type": "markdown",
   "metadata": {},
   "source": [
    "Complete list of parameters and output can be found here:\n",
    "https://www.yelp.com/developers/documentation/v3/business_search"
   ]
  },
  {
   "cell_type": "markdown",
   "metadata": {},
   "source": [
    "List and descriptions of output: https://www.yelp.com/developers/documentation/v3/business"
   ]
  },
  {
   "cell_type": "markdown",
   "metadata": {},
   "source": [
    "## Now make a loop to search for many:\n"
   ]
  },
  {
   "cell_type": "code",
   "execution_count": 14,
   "metadata": {},
   "outputs": [],
   "source": [
    "coordinates = gen_coords_helper(radius=200)"
   ]
  },
  {
   "cell_type": "markdown",
   "metadata": {},
   "source": [
    "take a look at some of the coordinates"
   ]
  },
  {
   "cell_type": "code",
   "execution_count": 24,
   "metadata": {},
   "outputs": [
    {
     "data": {
      "text/plain": [
       "12731"
      ]
     },
     "execution_count": 24,
     "metadata": {},
     "output_type": "execute_result"
    }
   ],
   "source": [
    "len(coordinates)"
   ]
  },
  {
   "cell_type": "code",
   "execution_count": 16,
   "metadata": {},
   "outputs": [
    {
     "name": "stdout",
     "output_type": "stream",
     "text": [
      "14 out of 20 searches returned no businesses\n"
     ]
    }
   ],
   "source": [
    "count_no_return = 0\n",
    "chi_businesses = []\n",
    "#idk maybe we want to keep this to check at a later point...\n",
    "other_businesses = []\n",
    "\n",
    "#change this to your coordinate range\n",
    "coord_range = coordinates[770:790]\n",
    "\n",
    "for geo_tup in coord_range:\n",
    "    \n",
    "    lat = geo_tup[0]\n",
    "    long = geo_tup[1]\n",
    "    response = yelp_api.search_query(latitude = lat, longitude = long, radius = 200, limit = 50)\n",
    "\n",
    "    if len(response) == 0:\n",
    "        count_no_return += 1\n",
    "        #print(\"response:\",response, \"length response\", len(response))\n",
    "        \n",
    "    elif len(response['businesses']) == 0:\n",
    "        count_no_return += 1\n",
    "        #print(\"response['businesses']:\",response['businesses'], \"length response\", len(response['businesses']))\n",
    "        \n",
    "    elif len(response) > 0 and len(response['businesses']) > 0:\n",
    "        for business in response['businesses']:\n",
    "        #we could also use the zip codes here but that's much more difficult\n",
    "            if business['location']['city'].lower() == 'chicago':\n",
    "                chi_businesses.append(business)\n",
    "            else:\n",
    "                other_businesses.append(business)\n",
    "        #print(\"businesses returned response looks like:\", response)\n",
    "        \n",
    "    if len(response['businesses']) == 50:\n",
    "        print(\"warning: there are over 50 businesses at location\", lat, long, \"consider breaking this down further\")\n",
    "\n",
    "print(count_no_return, \"out of\", len(coord_range), \"searches returned no businesses\")"
   ]
  },
  {
   "cell_type": "markdown",
   "metadata": {},
   "source": [
    "Can look at the businesses returned here: (length may be a better way to 'look')"
   ]
  },
  {
   "cell_type": "code",
   "execution_count": 17,
   "metadata": {},
   "outputs": [],
   "source": [
    "#chi_businesses"
   ]
  },
  {
   "cell_type": "markdown",
   "metadata": {},
   "source": [
    "Collect all the business queries from the search output above"
   ]
  },
  {
   "cell_type": "code",
   "execution_count": 18,
   "metadata": {},
   "outputs": [],
   "source": [
    "list_business_queries=[]\n",
    "\n",
    "for j in range(len(chi_businesses)):\n",
    "    response_ID = chi_businesses[j]['id']\n",
    "    business_q = yelp_api.business_query(response_ID)\n",
    "    list_business_queries.append(business_q)"
   ]
  },
  {
   "cell_type": "markdown",
   "metadata": {},
   "source": [
    "Create a list of the relevant keys (note: you may be able to simply use the following (but I'm not positive):\n",
    "['id', 'alias', 'name', 'image_url', 'is_claimed', 'is_closed', 'url', 'phone', 'display_phone', 'review_count', 'categories', 'rating', 'location', 'coordinates', 'photos', 'hours', 'transactions', 'price', 'messaging']"
   ]
  },
  {
   "cell_type": "code",
   "execution_count": 21,
   "metadata": {},
   "outputs": [],
   "source": [
    "list_keys = []\n",
    "\n",
    "for business in list_business_queries:\n",
    "    for k in business.keys():\n",
    "        if k not in list_keys:\n",
    "            #print(k, \"not in list keys yet\")\n",
    "            list_keys.append(k)\n"
   ]
  },
  {
   "cell_type": "code",
   "execution_count": 22,
   "metadata": {},
   "outputs": [],
   "source": [
    "#here you can check if it matches\n",
    "#list_keys"
   ]
  },
  {
   "cell_type": "markdown",
   "metadata": {},
   "source": [
    "## Output to CSV "
   ]
  },
  {
   "cell_type": "code",
   "execution_count": 23,
   "metadata": {},
   "outputs": [],
   "source": [
    "#change this to another name\n",
    "output_file_n = \"testerFile.csv\"\n",
    "\n",
    "try:\n",
    "    with open(output_file_n, 'w') as outFile:\n",
    "        writer = csv.DictWriter(outFile, fieldnames = list_keys)\n",
    "        writer.writeheader()\n",
    "        for business in list_business_queries:\n",
    "            writer.writerow(business)\n",
    "except IOError:\n",
    "    print(\"I/O Error\")"
   ]
  },
  {
   "cell_type": "code",
   "execution_count": null,
   "metadata": {},
   "outputs": [],
   "source": []
  },
  {
   "cell_type": "markdown",
   "metadata": {},
   "source": [
    "### They provide another endpoint to make matching records from another database (e.g. City) easier too!\n",
    "https://www.yelp.com/developers/documentation/v3/business_match"
   ]
  },
  {
   "cell_type": "code",
   "execution_count": null,
   "metadata": {},
   "outputs": [],
   "source": []
  }
 ],
 "metadata": {
  "kernelspec": {
   "display_name": "Python 3",
   "language": "python",
   "name": "python3"
  },
  "language_info": {
   "codemirror_mode": {
    "name": "ipython",
    "version": 3
   },
   "file_extension": ".py",
   "mimetype": "text/x-python",
   "name": "python",
   "nbconvert_exporter": "python",
   "pygments_lexer": "ipython3",
   "version": "3.8.5"
  }
 },
 "nbformat": 4,
 "nbformat_minor": 4
}
